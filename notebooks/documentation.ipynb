{
 "cells": [
  {
   "cell_type": "code",
   "execution_count": 1,
   "metadata": {},
   "outputs": [],
   "source": [
    "import nrlib"
   ]
  },
  {
   "cell_type": "code",
   "execution_count": 2,
   "metadata": {},
   "outputs": [
    {
     "data": {
      "text/plain": [
       "['DoubleVector',\n",
       " 'SizeTVector',\n",
       " 'Variogram',\n",
       " '__doc__',\n",
       " '__file__',\n",
       " '__loader__',\n",
       " '__name__',\n",
       " '__package__',\n",
       " '__spec__',\n",
       " 'advanced',\n",
       " 'quote',\n",
       " 'seed',\n",
       " 'simulate',\n",
       " 'simulation_size',\n",
       " 'variogram']"
      ]
     },
     "execution_count": 2,
     "metadata": {},
     "output_type": "execute_result"
    }
   ],
   "source": [
    "dir(nrlib)"
   ]
  },
  {
   "cell_type": "code",
   "execution_count": 2,
   "metadata": {},
   "outputs": [
    {
     "name": "stdout",
     "output_type": "stream",
     "text": [
      "Help on built-in function variogram in module nrlib:\n",
      "\n",
      "variogram(...)\n",
      "    variogram( (str)type, (float)main_range [, (float)perp_range=-1.0 [, (float)depth_range=-1.0 [, (float)azimuth=0.0 [, (float)dip=0.0 [, (float)power=1.5]]]]]) -> Variogram :\n",
      "        \n",
      "        Factory function for creating a particular variogram. The variogram is always\n",
      "        defined in three directions, but for simulation in fewer dimensions than three,\n",
      "        only the corresponding number of directions are used.\n",
      "        \n",
      "        Parameters\n",
      "        ----------\n",
      "        type: string\n",
      "            A string representing the type of variogram. The following types are supported:\n",
      "            gaussian, exponential, general_exponential, spherical, matern32, matern52,\n",
      "            matern72 and constant.\n",
      "        main_range: float\n",
      "            Range of the variogram in the main direction.\n",
      "        perp_range, depth_range: floats, optional\n",
      "            Parameters representing the range of the variogram in the two directions\n",
      "            perpendicular to main_range. If any of these are zero, the default is to set\n",
      "            the value to the same as main_range.\n",
      "        azimuth: float, optional\n",
      "            Lateral orientation of the variogram in degrees. Default is 0.0.\n",
      "        dip: float, optional\n",
      "            Dip direction of the variogram in degrees. Default is 0.0\n",
      "        power: float, optional\n",
      "            Power of the exponent for the general_exponential variogram, which is the only\n",
      "            variogram type this is used for. Default is 1.5.\n",
      "        \n",
      "        Returns\n",
      "        -------\n",
      "        out: Variogram\n",
      "            An instance of the class nrlib.Variogram.\n",
      "        \n",
      "        Examples\n",
      "        --------\n",
      "        >>> nrlib.variogram('gaussian', 1000.0)\n",
      "        \n",
      "        Specifying dip\n",
      "        \n",
      "        >>> nrlib.variogram('matern52', 1000.0, dip=45.0)\n",
      "        \n",
      "        Multiple directions\n",
      "        \n",
      "        >>> nrlib.variogram('general_exponential', 1000.0, 500.0, 250.0, power=1.8)\n",
      "        \n",
      "    \n",
      "        C++ signature :\n",
      "            class NRLib::Variogram * __ptr64 variogram(class std::basic_string<char,struct std::char_traits<char>,class std::allocator<char> >,double [,double=-1.0 [,double=-1.0 [,double=0.0 [,double=0.0 [,double=1.5]]]]])\n",
      "\n"
     ]
    }
   ],
   "source": [
    "help(nrlib.variogram)"
   ]
  },
  {
   "cell_type": "code",
   "execution_count": 4,
   "metadata": {},
   "outputs": [
    {
     "name": "stdout",
     "output_type": "stream",
     "text": [
      "Help on built-in function simulate in module nrlib:\n",
      "\n",
      "simulate(...)\n",
      "    simulate( (Variogram)variogram, (int)nx, (float)dx [, (int)ny=1 [, (float)dy=-1.0 [, (int)nz=1 [, (float)dz=-1.0]]]]) -> DoubleVector :\n",
      "        \n",
      "        Simulates a Gaussian random field with the corresponding variogram in one, two or\n",
      "        three dimensions. The random generator seed may be set by using nrlib.seed.\n",
      "        \n",
      "        Parameters\n",
      "        ----------\n",
      "        variogram: nrlib.Variogram\n",
      "            An instance of nrlib.Variogram (see nrlib.variogram).\n",
      "        nx, ny, nz: int\n",
      "            Grid size of the simulated field. Only nx is required. Setting ny and/or nz to\n",
      "            a value less than or equal to 1 reduces the dimension. Default is ny = 1 and \n",
      "            nz = 1.\n",
      "        dx, dy, dz: float\n",
      "            Grid resolution in x, y and z directions. dx is always required. dy and dz are\n",
      "            required if respectively ny and nz are greater than 1.\n",
      "        \n",
      "        Returns\n",
      "        -------\n",
      "        out: DoubleVector\n",
      "            Bindings to a C++ vector of double precision floats. The vector is iterable\n",
      "            and can thus be transformed into a numpy array directly. The result is always\n",
      "            a 1D vector, using Fortran ordering if the simulation is multi-dimensional.\n",
      "        \n",
      "        Examples\n",
      "        --------\n",
      "        >>> v = nrlib.variogram('gaussian', 250.0, 125.0)\n",
      "        >>> nx, dx = 10, 100.0\n",
      "        >>> z = nrlib.simulate(v, nx, dx)\n",
      "        >>> np.array(z)\n",
      "        array([-1.29924289, -1.51172913, -1.2935657 , -0.80779427,  0.22217236,\n",
      "                1.26740091,  0.66094991, -0.77396656,  0.01523847,  0.44392584])\n",
      "        \n",
      "        Multi-dimensional simulation\n",
      "        \n",
      "        >>> nx, ny = 100, 200\n",
      "        >>> dx, dy = 10.0, 5.0\n",
      "        >>> z = nrlib.simulate(v, nx, dx, ny, dy)\n",
      "        >>> z_np = np.array(z).reshape((nx, ny), order='F')\n",
      "        >>> z_np.shape\n",
      "        (100,200)\n",
      "        \n",
      "    \n",
      "        C++ signature :\n",
      "            class std::vector<double,class std::allocator<double> > simulate(class NRLib::Variogram * __ptr64,unsigned __int64,double [,unsigned __int64=1 [,double=-1.0 [,unsigned __int64=1 [,double=-1.0]]]])\n",
      "\n"
     ]
    }
   ],
   "source": [
    "help(nrlib.simulate)"
   ]
  },
  {
   "cell_type": "code",
   "execution_count": 5,
   "metadata": {},
   "outputs": [
    {
     "name": "stdout",
     "output_type": "stream",
     "text": [
      "Help on built-in function simulation_size in module nrlib:\n",
      "\n",
      "simulation_size(...)\n",
      "    simulation_size( (Variogram)variogram, (int)nx, (float)dx [, (int)ny=1 [, (float)dy=-1.0 [, (int)nz=1 [, (float)dz=-1.0]]]]) -> SizeTVector :\n",
      "        \n",
      "        Function for determining the grid size after padding in order to assess the\n",
      "        complexity of the problem. Returns bindings to a vector with up to three elements\n",
      "        with the number of grid cells after the grid has been padded. Signature is the\n",
      "        same as nrlib.simulate.\n",
      "        \n",
      "        Examples\n",
      "        --------\n",
      "        >>> v = nrlib.variogram('spherical', 250.0, 125.0)\n",
      "        >>> nx, ny, dx, dy = 100, 100, 10.0, 10.0\n",
      "        >>> list(nrlib.simulation_size(v, nx, dx, ny, dy))\n",
      "        [25, 12]\n",
      "        \n",
      "    \n",
      "        C++ signature :\n",
      "            class std::vector<unsigned __int64,class std::allocator<unsigned __int64> > simulation_size(class NRLib::Variogram * __ptr64,unsigned __int64,double [,unsigned __int64=1 [,double=-1.0 [,unsigned __int64=1 [,double=-1.0]]]])\n",
      "\n"
     ]
    }
   ],
   "source": [
    "help(nrlib.simulation_size)"
   ]
  }
 ],
 "metadata": {
  "kernelspec": {
   "display_name": "Python 3",
   "language": "python",
   "name": "python3"
  },
  "language_info": {
   "codemirror_mode": {
    "name": "ipython",
    "version": 3
   },
   "file_extension": ".py",
   "mimetype": "text/x-python",
   "name": "python",
   "nbconvert_exporter": "python",
   "pygments_lexer": "ipython3",
   "version": "3.4.2"
  }
 },
 "nbformat": 4,
 "nbformat_minor": 2
}
